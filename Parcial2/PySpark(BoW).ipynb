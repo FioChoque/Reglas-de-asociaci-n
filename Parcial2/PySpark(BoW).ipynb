{
  "cells": [
    {
      "cell_type": "markdown",
      "metadata": {
        "id": "VM4wuNXeKn1F"
      },
      "source": [
        "#Universidad Nacional de San Antonio Abad del Cusco\n",
        "\n",
        "*   Nombre: Fiorella Choque Bueno\n",
        "*   Codigo: 160889"
      ]
    },
    {
      "cell_type": "code",
      "execution_count": 1,
      "metadata": {
        "colab": {
          "base_uri": "https://localhost:8080/"
        },
        "id": "5N3KrT1YVipA",
        "outputId": "4028b7f0-3c5b-4559-fea4-a0d41352f48d"
      },
      "outputs": [
        {
          "output_type": "stream",
          "name": "stdout",
          "text": [
            "Collecting pyspark\n",
            "  Downloading pyspark-3.2.0.tar.gz (281.3 MB)\n",
            "\u001b[K     |████████████████████████████████| 281.3 MB 39 kB/s \n",
            "\u001b[?25hCollecting py4j==0.10.9.2\n",
            "  Downloading py4j-0.10.9.2-py2.py3-none-any.whl (198 kB)\n",
            "\u001b[K     |████████████████████████████████| 198 kB 43.2 MB/s \n",
            "\u001b[?25hBuilding wheels for collected packages: pyspark\n",
            "  Building wheel for pyspark (setup.py) ... \u001b[?25l\u001b[?25hdone\n",
            "  Created wheel for pyspark: filename=pyspark-3.2.0-py2.py3-none-any.whl size=281805912 sha256=9623530114e172925fc52f36fb717ca640199aeb2d903a2093f59b8c01615fa8\n",
            "  Stored in directory: /root/.cache/pip/wheels/0b/de/d2/9be5d59d7331c6c2a7c1b6d1a4f463ce107332b1ecd4e80718\n",
            "Successfully built pyspark\n",
            "Installing collected packages: py4j, pyspark\n",
            "Successfully installed py4j-0.10.9.2 pyspark-3.2.0\n",
            "Collecting pyspark==3.0.1\n",
            "  Downloading pyspark-3.0.1.tar.gz (204.2 MB)\n",
            "\u001b[K     |████████████████████████████████| 204.2 MB 32 kB/s \n",
            "\u001b[?25hCollecting py4j==0.10.9\n",
            "  Downloading py4j-0.10.9-py2.py3-none-any.whl (198 kB)\n",
            "\u001b[K     |████████████████████████████████| 198 kB 56.2 MB/s \n",
            "\u001b[?25hBuilding wheels for collected packages: pyspark\n",
            "  Building wheel for pyspark (setup.py) ... \u001b[?25l\u001b[?25hdone\n",
            "  Created wheel for pyspark: filename=pyspark-3.0.1-py2.py3-none-any.whl size=204612246 sha256=1eaaabb7853f881f58c787ee2ddfe6bbbfc6ff5f562c6268b76ef8ac6f08a2ec\n",
            "  Stored in directory: /root/.cache/pip/wheels/5e/34/fa/b37b5cef503fc5148b478b2495043ba61b079120b7ff379f9b\n",
            "Successfully built pyspark\n",
            "Installing collected packages: py4j, pyspark\n",
            "  Attempting uninstall: py4j\n",
            "    Found existing installation: py4j 0.10.9.2\n",
            "    Uninstalling py4j-0.10.9.2:\n",
            "      Successfully uninstalled py4j-0.10.9.2\n",
            "  Attempting uninstall: pyspark\n",
            "    Found existing installation: pyspark 3.2.0\n",
            "    Uninstalling pyspark-3.2.0:\n",
            "      Successfully uninstalled pyspark-3.2.0\n",
            "Successfully installed py4j-0.10.9 pyspark-3.0.1\n"
          ]
        }
      ],
      "source": [
        "!pip install pyspark\n",
        "!pip install pyspark==3.0.1 py4j==0.10.9"
      ]
    },
    {
      "cell_type": "markdown",
      "metadata": {
        "id": "iPHonedkHw-p"
      },
      "source": [
        "#Implementar BoW PySpark usando mapreduce en el algoritmo TF-IDF"
      ]
    },
    {
      "cell_type": "code",
      "execution_count": 2,
      "metadata": {
        "id": "5cqDIwNyWXNn"
      },
      "outputs": [],
      "source": [
        "import math\n",
        "from pyspark.sql.functions import *\n",
        "from pyspark.sql import SparkSession\n",
        "from pyspark import SparkContext, SparkConf\n",
        "sc =SparkContext.getOrCreate()\n",
        "import os\n",
        "import re\n",
        "import nltk.corpus\n",
        "from nltk import corpus"
      ]
    },
    {
      "cell_type": "markdown",
      "metadata": {
        "id": "9VNfoK2TPcWY"
      },
      "source": [
        "#Frecuencia de término de cómputo (TF)\n",
        "La frecuencia del término es el número de veces que aparece una palabra en particular en un documento.\n",
        "\n",
        "* Usaremos un ejemplo para la implementación de tf y idf\n",
        "* Realizaremos la tokenización\n",
        "* Implementaremos el código para obtener el TF de nuestro ejemplo\n",
        "* Mostraremos el resultado obtenido\n",
        "* Implementaremos el código para obtener el IDF de nuestro ejemplo\n",
        "* Mostraremos los resultados obtenidos\n",
        "* Implementaremos el código para TF-IDF\n",
        "* Mostraremos en una tabla los resultados obtenidos"
      ]
    },
    {
      "cell_type": "code",
      "execution_count": 3,
      "metadata": {
        "colab": {
          "base_uri": "https://localhost:8080/"
        },
        "id": "uM4QscIlGraa",
        "outputId": "a17ddeda-c3dc-4fae-ec0d-7e08da9b59dc"
      },
      "outputs": [
        {
          "output_type": "execute_result",
          "data": {
            "text/plain": [
              "[((1, 'capitán'), 1),\n",
              " ((1, 'a'), 1),\n",
              " ((2, 'crónica'), 1),\n",
              " ((2, 'del'), 1),\n",
              " ((2, 'pájaro'), 1),\n",
              " ((2, 'que'), 1),\n",
              " ((2, 'da'), 1),\n",
              " ((2, 'al'), 1),\n",
              " ((2, 'mundo'), 1),\n",
              " ((3, 'curioso'), 1),\n",
              " ((3, 'incidente'), 1),\n",
              " ((3, 'a'), 1),\n",
              " ((4, 'el'), 1),\n",
              " ((4, 'hombre'), 1),\n",
              " ((4, 'que'), 1),\n",
              " ((4, 'susurraba'), 1),\n",
              " ((4, 'los'), 1),\n",
              " ((1, 'el'), 2),\n",
              " ((1, 'salió'), 1),\n",
              " ((1, 'comer'), 1),\n",
              " ((1, 'y'), 1),\n",
              " ((1, 'los'), 1),\n",
              " ((1, 'marineros'), 1),\n",
              " ((1, 'tomaron'), 1),\n",
              " ((1, 'barco'), 1),\n",
              " ((2, 'cuerda'), 1),\n",
              " ((3, 'el'), 1),\n",
              " ((3, 'del'), 1),\n",
              " ((3, 'perro'), 1),\n",
              " ((3, 'medianoche'), 1),\n",
              " ((4, 'a'), 1),\n",
              " ((4, 'caballos'), 1)]"
            ]
          },
          "metadata": {},
          "execution_count": 3
        }
      ],
      "source": [
        "#Utilizamos un data con 4 títulos de obras literarias\n",
        "data=[(1,'el capitán salió a comer y los marineros tomaron el barco'),\n",
        "      (2,'crónica del pájaro que da cuerda al mundo'),\n",
        "      (3,'el curioso incidente del perro a medianoche'),\n",
        "      (4,'el hombre que susurraba a los caballos')]\n",
        "lines=sc.parallelize(data)\n",
        "lines.collect()\n",
        "map1=lines.flatMap(lambda x: [((x[0],i),1) for i in x[1].split()])\n",
        "map1.collect()\n",
        "reduce=map1.reduceByKey(lambda x,y:x+y)\n",
        "reduce.collect()"
      ]
    },
    {
      "cell_type": "code",
      "execution_count": 5,
      "metadata": {
        "colab": {
          "base_uri": "https://localhost:8080/"
        },
        "id": "nT3AZTz1GuMR",
        "outputId": "b6d14a20-40c3-4689-fc5c-025f8599c302"
      },
      "outputs": [
        {
          "output_type": "execute_result",
          "data": {
            "text/plain": [
              "[('crónica', 1),\n",
              " ('del', 2),\n",
              " ('pájaro', 1),\n",
              " ('que', 2),\n",
              " ('da', 1),\n",
              " ('al', 1),\n",
              " ('mundo', 1),\n",
              " ('el', 3),\n",
              " ('hombre', 1),\n",
              " ('susurraba', 1),\n",
              " ('los', 2),\n",
              " ('salió', 1),\n",
              " ('comer', 1),\n",
              " ('y', 1),\n",
              " ('marineros', 1),\n",
              " ('tomaron', 1),\n",
              " ('barco', 1),\n",
              " ('perro', 1),\n",
              " ('medianoche', 1),\n",
              " ('capitán', 1),\n",
              " ('a', 3),\n",
              " ('curioso', 1),\n",
              " ('incidente', 1),\n",
              " ('cuerda', 1),\n",
              " ('caballos', 1)]"
            ]
          },
          "metadata": {},
          "execution_count": 5
        }
      ],
      "source": [
        "# Algoritmo término de frecuencia (TF)\n",
        "tf=reduce.map(lambda x: (x[0][1],(x[0][0],x[1])))\n",
        "tf.collect()\n",
        "\n",
        "map3=reduce.map(lambda x: (x[0][1],(x[0][0],x[1],1)))\n",
        "map3.collect()\n",
        "\n",
        "map4=map3.map(lambda x:(x[0],x[1][2]))\n",
        "map4.collect()\n",
        "\n",
        "reduce2=map4.reduceByKey(lambda x,y:x+y)\n",
        "reduce2.collect()\n"
      ]
    },
    {
      "cell_type": "code",
      "execution_count": 6,
      "metadata": {
        "colab": {
          "base_uri": "https://localhost:8080/"
        },
        "id": "OVCCGn2YGyw5",
        "outputId": "35b6947a-2761-426c-aa50-74ac99dbb5fa"
      },
      "outputs": [
        {
          "output_type": "execute_result",
          "data": {
            "text/plain": [
              "[('el', ((4, 1), 0.12493873660829992)),\n",
              " ('el', ((1, 2), 0.12493873660829992)),\n",
              " ('el', ((3, 1), 0.12493873660829992)),\n",
              " ('susurraba', ((4, 1), 0.6020599913279624)),\n",
              " ('los', ((4, 1), 0.3010299956639812)),\n",
              " ('los', ((1, 1), 0.3010299956639812)),\n",
              " ('salió', ((1, 1), 0.6020599913279624)),\n",
              " ('y', ((1, 1), 0.6020599913279624)),\n",
              " ('tomaron', ((1, 1), 0.6020599913279624)),\n",
              " ('capitán', ((1, 1), 0.6020599913279624)),\n",
              " ('a', ((1, 1), 0.12493873660829992)),\n",
              " ('a', ((3, 1), 0.12493873660829992)),\n",
              " ('a', ((4, 1), 0.12493873660829992)),\n",
              " ('curioso', ((3, 1), 0.6020599913279624)),\n",
              " ('caballos', ((4, 1), 0.6020599913279624)),\n",
              " ('crónica', ((2, 1), 0.6020599913279624)),\n",
              " ('del', ((2, 1), 0.3010299956639812)),\n",
              " ('del', ((3, 1), 0.3010299956639812)),\n",
              " ('pájaro', ((2, 1), 0.6020599913279624)),\n",
              " ('que', ((2, 1), 0.3010299956639812)),\n",
              " ('que', ((4, 1), 0.3010299956639812)),\n",
              " ('da', ((2, 1), 0.6020599913279624)),\n",
              " ('al', ((2, 1), 0.6020599913279624)),\n",
              " ('mundo', ((2, 1), 0.6020599913279624)),\n",
              " ('hombre', ((4, 1), 0.6020599913279624)),\n",
              " ('comer', ((1, 1), 0.6020599913279624)),\n",
              " ('marineros', ((1, 1), 0.6020599913279624)),\n",
              " ('barco', ((1, 1), 0.6020599913279624)),\n",
              " ('perro', ((3, 1), 0.6020599913279624)),\n",
              " ('medianoche', ((3, 1), 0.6020599913279624)),\n",
              " ('incidente', ((3, 1), 0.6020599913279624)),\n",
              " ('cuerda', ((2, 1), 0.6020599913279624))]"
            ]
          },
          "metadata": {},
          "execution_count": 6
        }
      ],
      "source": [
        "# Algoritmo término de frecuencia (IDF)\n",
        "idf=reduce2.map(lambda x: (x[0],math.log10(len(data)/x[1])))\n",
        "idf.collect()\n",
        "\n",
        "rdd=tf.join(idf)\n",
        "rdd.collect()"
      ]
    },
    {
      "cell_type": "code",
      "execution_count": 7,
      "metadata": {
        "colab": {
          "base_uri": "https://localhost:8080/"
        },
        "id": "mONbRKRQDQkT",
        "outputId": "92dfb863-c25d-4057-c02c-546df147ae83"
      },
      "outputs": [
        {
          "output_type": "execute_result",
          "data": {
            "text/plain": [
              "[(1, ('el', 2, 0.12493873660829992, 0.24987747321659984)),\n",
              " (1, ('los', 1, 0.3010299956639812, 0.3010299956639812)),\n",
              " (1, ('salió', 1, 0.6020599913279624, 0.6020599913279624)),\n",
              " (1, ('y', 1, 0.6020599913279624, 0.6020599913279624)),\n",
              " (1, ('tomaron', 1, 0.6020599913279624, 0.6020599913279624)),\n",
              " (1, ('capitán', 1, 0.6020599913279624, 0.6020599913279624)),\n",
              " (1, ('a', 1, 0.12493873660829992, 0.12493873660829992)),\n",
              " (1, ('comer', 1, 0.6020599913279624, 0.6020599913279624)),\n",
              " (1, ('marineros', 1, 0.6020599913279624, 0.6020599913279624)),\n",
              " (1, ('barco', 1, 0.6020599913279624, 0.6020599913279624)),\n",
              " (2, ('crónica', 1, 0.6020599913279624, 0.6020599913279624)),\n",
              " (2, ('del', 1, 0.3010299956639812, 0.3010299956639812)),\n",
              " (2, ('pájaro', 1, 0.6020599913279624, 0.6020599913279624)),\n",
              " (2, ('que', 1, 0.3010299956639812, 0.3010299956639812)),\n",
              " (2, ('da', 1, 0.6020599913279624, 0.6020599913279624)),\n",
              " (2, ('al', 1, 0.6020599913279624, 0.6020599913279624)),\n",
              " (2, ('mundo', 1, 0.6020599913279624, 0.6020599913279624)),\n",
              " (2, ('cuerda', 1, 0.6020599913279624, 0.6020599913279624)),\n",
              " (3, ('el', 1, 0.12493873660829992, 0.12493873660829992)),\n",
              " (3, ('a', 1, 0.12493873660829992, 0.12493873660829992)),\n",
              " (3, ('curioso', 1, 0.6020599913279624, 0.6020599913279624)),\n",
              " (3, ('del', 1, 0.3010299956639812, 0.3010299956639812)),\n",
              " (3, ('perro', 1, 0.6020599913279624, 0.6020599913279624)),\n",
              " (3, ('medianoche', 1, 0.6020599913279624, 0.6020599913279624)),\n",
              " (3, ('incidente', 1, 0.6020599913279624, 0.6020599913279624)),\n",
              " (4, ('el', 1, 0.12493873660829992, 0.12493873660829992)),\n",
              " (4, ('susurraba', 1, 0.6020599913279624, 0.6020599913279624)),\n",
              " (4, ('los', 1, 0.3010299956639812, 0.3010299956639812)),\n",
              " (4, ('a', 1, 0.12493873660829992, 0.12493873660829992)),\n",
              " (4, ('caballos', 1, 0.6020599913279624, 0.6020599913279624)),\n",
              " (4, ('que', 1, 0.3010299956639812, 0.3010299956639812)),\n",
              " (4, ('hombre', 1, 0.6020599913279624, 0.6020599913279624))]"
            ]
          },
          "metadata": {},
          "execution_count": 7
        }
      ],
      "source": [
        "# Algoritmo término de frecuencia (TF-IDF)\n",
        "rdd=rdd.map(lambda x: (x[1][0][0],(x[0],x[1][0][1],x[1][1],x[1][0][1]*x[1][1]))).sortByKey()\n",
        "rdd.collect()"
      ]
    },
    {
      "cell_type": "code",
      "source": [
        "#Se muestra solo las primeras 20 líneas\n",
        "spark = SparkSession(sc)\n",
        "rdd=rdd.map(lambda x: (x[0],x[1][0],x[1][1],x[1][2],x[1][3]))\n",
        "hasattr(rdd, \"toDF\")\n",
        "rdd.toDF([\"ID del Documento\",\"Token\",\"TF\",\"IDF\",\"TF-IDF\"]).show()"
      ],
      "metadata": {
        "colab": {
          "base_uri": "https://localhost:8080/"
        },
        "id": "wWChEcpAqeKe",
        "outputId": "6df3ef21-09b7-4ed9-a95c-be10762f5e85"
      },
      "execution_count": 8,
      "outputs": [
        {
          "output_type": "stream",
          "name": "stdout",
          "text": [
            "+----------------+---------+---+-------------------+-------------------+\n",
            "|ID del Documento|    Token| TF|                IDF|             TF-IDF|\n",
            "+----------------+---------+---+-------------------+-------------------+\n",
            "|               1|       el|  2|0.12493873660829992|0.24987747321659984|\n",
            "|               1|      los|  1| 0.3010299956639812| 0.3010299956639812|\n",
            "|               1|    salió|  1| 0.6020599913279624| 0.6020599913279624|\n",
            "|               1|        y|  1| 0.6020599913279624| 0.6020599913279624|\n",
            "|               1|  tomaron|  1| 0.6020599913279624| 0.6020599913279624|\n",
            "|               1|  capitán|  1| 0.6020599913279624| 0.6020599913279624|\n",
            "|               1|        a|  1|0.12493873660829992|0.12493873660829992|\n",
            "|               1|    comer|  1| 0.6020599913279624| 0.6020599913279624|\n",
            "|               1|marineros|  1| 0.6020599913279624| 0.6020599913279624|\n",
            "|               1|    barco|  1| 0.6020599913279624| 0.6020599913279624|\n",
            "|               2|  crónica|  1| 0.6020599913279624| 0.6020599913279624|\n",
            "|               2|      del|  1| 0.3010299956639812| 0.3010299956639812|\n",
            "|               2|   pájaro|  1| 0.6020599913279624| 0.6020599913279624|\n",
            "|               2|      que|  1| 0.3010299956639812| 0.3010299956639812|\n",
            "|               2|       da|  1| 0.6020599913279624| 0.6020599913279624|\n",
            "|               2|       al|  1| 0.6020599913279624| 0.6020599913279624|\n",
            "|               2|    mundo|  1| 0.6020599913279624| 0.6020599913279624|\n",
            "|               2|   cuerda|  1| 0.6020599913279624| 0.6020599913279624|\n",
            "|               3|       el|  1|0.12493873660829992|0.12493873660829992|\n",
            "|               3|        a|  1|0.12493873660829992|0.12493873660829992|\n",
            "+----------------+---------+---+-------------------+-------------------+\n",
            "only showing top 20 rows\n",
            "\n"
          ]
        }
      ]
    }
  ],
  "metadata": {
    "colab": {
      "collapsed_sections": [],
      "name": "PySpark(BoW).ipynb",
      "provenance": []
    },
    "kernelspec": {
      "display_name": "Python 3",
      "name": "python3"
    },
    "language_info": {
      "name": "python"
    }
  },
  "nbformat": 4,
  "nbformat_minor": 0
}